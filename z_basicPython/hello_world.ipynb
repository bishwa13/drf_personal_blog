{
 "cells": [
  {
   "cell_type": "code",
   "execution_count": 3,
   "metadata": {},
   "outputs": [
    {
     "name": "stdout",
     "output_type": "stream",
     "text": [
      "hello 1\n",
      "hello1\n",
      "hello 2\n",
      "hello2\n",
      "hello 3\n",
      "hello3\n"
     ]
    }
   ],
   "source": [
    "sb_numbers = ['1', '2', '3']\n",
    "for sb in sb_numbers:\n",
    "\n",
    "  print (f\"hello {sb}\")\n",
    "\n",
    "  print(\"hello\" + sb)"
   ]
  },
  {
   "cell_type": "code",
   "execution_count": 1,
   "metadata": {},
   "outputs": [],
   "source": [
    "def print_greetings(name):\n",
    "  print(f\"Hello, {name}\")"
   ]
  },
  {
   "cell_type": "code",
   "execution_count": 4,
   "metadata": {},
   "outputs": [
    {
     "name": "stdout",
     "output_type": "stream",
     "text": [
      "Hello, Bishwa\n",
      "Hello, Bishwa\n"
     ]
    }
   ],
   "source": [
    "\n",
    "print_greetings(\"Bishwa\") \n",
    "print_greetings(\"Bishwa\")"
   ]
  },
  {
   "cell_type": "code",
   "execution_count": 13,
   "metadata": {},
   "outputs": [
    {
     "name": "stdout",
     "output_type": "stream",
     "text": [
      "Monty Python- hello \n",
      "print greetings\n",
      " Hello\n"
     ]
    }
   ],
   "source": [
    "\n",
    "print(\"Monty Python\", end=\"- \") # end is keyword arguments which change the behavior of print function a bit.\n",
    "print(\"hello\",\"\\n\" \"print\" , \"greetings\" \"\\n Hello\")"
   ]
  },
  {
   "cell_type": "code",
   "execution_count": null,
   "metadata": {},
   "outputs": [],
   "source": []
  },
  {
   "cell_type": "code",
   "execution_count": 11,
   "metadata": {},
   "outputs": [
    {
     "name": "stdout",
     "output_type": "stream",
     "text": [
      "Buddy\n",
      "Buddy says Woof!\n",
      "5\n"
     ]
    }
   ],
   "source": [
    "class Dog:\n",
    "    \"\"\"A simple class representing a dog.\"\"\"\n",
    "\n",
    "    species = \"Canis familiaris\"\n",
    "\n",
    "    def __init__(self, name, age):\n",
    "        self.name = name\n",
    "        self.age = age\n",
    "\n",
    "    def bark(self):\n",
    "        print(f\"{self.name} says Woof!\")\n",
    "\n",
    "    def get_age(self):\n",
    "        return self.age\n",
    "\n",
    "# Creating an object of the class\n",
    "my_dog = Dog(\"Buddy\", 5)\n",
    "\n",
    "# Accessing attributes and methods\n",
    "print(my_dog.name)  # Output: Buddy\n",
    "my_dog.bark()       # Output: Buddy says Woof!\n",
    "print(my_dog.get_age())  # Output: 5\n"
   ]
  },
  {
   "cell_type": "code",
   "execution_count": 1,
   "metadata": {},
   "outputs": [
    {
     "name": "stdout",
     "output_type": "stream",
     "text": [
      "3\n",
      "3\n",
      "1\n"
     ]
    }
   ],
   "source": [
    "x = int(input())\n",
    "y = int(input())\n",
    "\n",
    "x = x % y\n",
    "print(x)\n",
    "x = x % y\n",
    "print(x)\n",
    "y = y % x\n",
    "\n",
    "print(y)\n",
    "\n"
   ]
  },
  {
   "cell_type": "code",
   "execution_count": 2,
   "metadata": {},
   "outputs": [
    {
     "name": "stdout",
     "output_type": "stream",
     "text": [
      "17.5\n"
     ]
    }
   ],
   "source": [
    "x = 1 / 2 + 3 // 3 + 4 ** 2\n",
    "print(x)\n",
    "\n"
   ]
  },
  {
   "cell_type": "code",
   "execution_count": 9,
   "metadata": {},
   "outputs": [
    {
     "ename": "KeyboardInterrupt",
     "evalue": "",
     "output_type": "error",
     "traceback": [
      "\u001b[1;31m---------------------------------------------------------------------------\u001b[0m",
      "\u001b[1;31mKeyboardInterrupt\u001b[0m                         Traceback (most recent call last)",
      "Cell \u001b[1;32mIn[9], line 8\u001b[0m\n\u001b[0;32m      5\u001b[0m number \u001b[38;5;241m=\u001b[39m \u001b[38;5;28mint\u001b[39m(\u001b[38;5;28minput\u001b[39m(\u001b[38;5;124m\"\u001b[39m\u001b[38;5;124mEnter a number or type -1 to stop: \u001b[39m\u001b[38;5;124m\"\u001b[39m))\n\u001b[0;32m      7\u001b[0m \u001b[38;5;66;03m# If the number is not equal to -1, continue.\u001b[39;00m\n\u001b[1;32m----> 8\u001b[0m \u001b[38;5;28;01mwhile\u001b[39;00m number \u001b[38;5;241m!=\u001b[39m \u001b[38;5;241m-\u001b[39m\u001b[38;5;241m1\u001b[39m:\n\u001b[0;32m      9\u001b[0m     \u001b[38;5;66;03m# Is number larger than largest_number?\u001b[39;00m\n\u001b[0;32m     10\u001b[0m     \u001b[38;5;28;01mif\u001b[39;00m number \u001b[38;5;241m>\u001b[39m largest_number:\n\u001b[0;32m     11\u001b[0m         \u001b[38;5;66;03m# Yes, update largest_number.\u001b[39;00m\n\u001b[0;32m     12\u001b[0m         largest_number \u001b[38;5;241m=\u001b[39m number\n",
      "\u001b[1;31mKeyboardInterrupt\u001b[0m: "
     ]
    }
   ],
   "source": [
    "# Store the current largest number here.\n",
    "largest_number = -999999999\n",
    "\n",
    "# Input the first value.\n",
    "number = int(input(\"Enter a number or type -1 to stop: \"))\n",
    "\n",
    "# If the number is not equal to -1, continue.\n",
    "while number != -1:\n",
    "    # Is number larger than largest_number?\n",
    "    if number > largest_number:\n",
    "        # Yes, update largest_number.\n",
    "        largest_number = number\n",
    "    # Input the next number.\n",
    "    number = int(input(\"Enter a number or type -1 to stop: \"))\n",
    "\n",
    "# Print the largest number.\n",
    "print(\"The largest number is:\", largest_number)\n",
    "\n"
   ]
  },
  {
   "cell_type": "code",
   "execution_count": 3,
   "metadata": {},
   "outputs": [
    {
     "name": "stdout",
     "output_type": "stream",
     "text": [
      "Odd numbers count: 2\n",
      "Even numbers count: 2\n"
     ]
    }
   ],
   "source": [
    "# A program that reads a sequence of numbers\n",
    "# and counts how many numbers are even and how many are odd.\n",
    "# The program terminates when zero is entered.\n",
    "\n",
    "odd_numbers = 0\n",
    "even_numbers = 0\n",
    "\n",
    "# Read the first number.\n",
    "number = int(input(\"Enter a number or type 0 to stop: \"))\n",
    "\n",
    "# 0 terminates execution.\n",
    "while number != 0:\n",
    "    # Check if the number is odd.\n",
    "    if number % 2 == 1:\n",
    "        # Increase the odd_numbers counter.\n",
    "        odd_numbers += 1\n",
    "    else:\n",
    "        # Increase the even_numbers counter.\n",
    "        even_numbers += 1\n",
    "    # Read the next number.\n",
    "    number = int(input(\"Enter a number or type 0 to stop: \"))\n",
    "\n",
    "# Print results.\n",
    "print(\"Odd numbers count:\", odd_numbers)\n",
    "print(\"Even numbers count:\", even_numbers)\n",
    "\n"
   ]
  },
  {
   "cell_type": "code",
   "execution_count": 1,
   "metadata": {},
   "outputs": [
    {
     "name": "stdout",
     "output_type": "stream",
     "text": [
      "Inside the loop. 5\n",
      "Inside the loop. 4\n",
      "Inside the loop. 3\n",
      "Inside the loop. 2\n",
      "Inside the loop. 1\n",
      "Outside the loop. 0\n"
     ]
    }
   ],
   "source": [
    "counter = 5\n",
    "while counter != 0:\n",
    "    print(\"Inside the loop.\", counter)\n",
    "    counter -= 1\n",
    "print(\"Outside the loop.\", counter)\n",
    "\n"
   ]
  },
  {
   "cell_type": "code",
   "execution_count": 3,
   "metadata": {},
   "outputs": [
    {
     "name": "stdout",
     "output_type": "stream",
     "text": [
      "1\n",
      "3\n",
      "5\n",
      "7\n",
      "9\n"
     ]
    }
   ],
   "source": [
    "for i in range(1, 11):\n",
    "    if i%2 != 0:\n",
    "      print(i)\n",
    "        # Line of code."
   ]
  },
  {
   "cell_type": "code",
   "execution_count": 8,
   "metadata": {},
   "outputs": [
    {
     "name": "stdout",
     "output_type": "stream",
     "text": [
      "1\n",
      "3\n",
      "5\n",
      "7\n",
      "9\n"
     ]
    }
   ],
   "source": [
    "x = 1\n",
    "\n",
    "while x < 11:\n",
    "  if x%2 != 0:\n",
    "      print(x)\n",
    "  x += 1\n",
    " "
   ]
  },
  {
   "cell_type": "code",
   "execution_count": 9,
   "metadata": {},
   "outputs": [
    {
     "name": "stdout",
     "output_type": "stream",
     "text": [
      "1\n"
     ]
    }
   ],
   "source": [
    "x = 1\n",
    "\n",
    "if x%2 != 0:\n",
    "  print(x)\n",
    "\n",
    "x += 1\n",
    "\n"
   ]
  },
  {
   "cell_type": "code",
   "execution_count": 12,
   "metadata": {},
   "outputs": [
    {
     "name": "stdout",
     "output_type": "stream",
     "text": [
      "0 1 2 \n",
      "6 4 2 "
     ]
    }
   ],
   "source": [
    "for i in range(3):\n",
    "  print(i, end=\" \")\n",
    "\n",
    "print()\n",
    "for i in range(6,1, -2):\n",
    "  print(i, end=\" \")"
   ]
  },
  {
   "cell_type": "code",
   "execution_count": 15,
   "metadata": {},
   "outputs": [
    {
     "name": "stdout",
     "output_type": "stream",
     "text": [
      "j o h n . s m i t h "
     ]
    }
   ],
   "source": [
    "for chr in \"john.smith@pythoninstitute.org\":\n",
    "  \n",
    "\n",
    "  if chr == \"@\":\n",
    "    break\n",
    "\n",
    "  print(chr, end=\" \")"
   ]
  },
  {
   "cell_type": "code",
   "execution_count": 16,
   "metadata": {},
   "outputs": [
    {
     "name": "stdout",
     "output_type": "stream",
     "text": [
      "x 1 6 5 x 3 1 8 x 6 5 1 x "
     ]
    }
   ],
   "source": [
    "for digit in \"0165031806510\":\n",
    "  if digit == \"0\":\n",
    "    print(\"x\", end=\" \")\n",
    "    continue\n",
    "  print(digit, end=\" \")\n"
   ]
  },
  {
   "cell_type": "code",
   "execution_count": 19,
   "metadata": {},
   "outputs": [
    {
     "name": "stdout",
     "output_type": "stream",
     "text": [
      "0 x 1 6 5 0 x 3 1 8 0 x 6 5 1 0 x "
     ]
    }
   ],
   "source": [
    "for digit in \"0165031806510\":\n",
    "  print(digit, end=\" \")\n",
    "  if digit == \"0\":\n",
    "    print(\"x\", end=\" \")\n",
    "    continue\n",
    "  "
   ]
  },
  {
   "cell_type": "code",
   "execution_count": 23,
   "metadata": {},
   "outputs": [
    {
     "name": "stdout",
     "output_type": "stream",
     "text": [
      "-1\n",
      "0\n",
      "1\n",
      "2\n",
      "3\n"
     ]
    }
   ],
   "source": [
    "n = range(4)\n",
    " \n",
    "for num in n:\n",
    "    print(num -1)\n",
    "else:\n",
    "    print(num)"
   ]
  },
  {
   "cell_type": "code",
   "execution_count": 24,
   "metadata": {},
   "outputs": [
    {
     "name": "stdout",
     "output_type": "stream",
     "text": [
      "0\n",
      "3\n"
     ]
    }
   ],
   "source": [
    "for i in range(0, 6, 3):\n",
    "  print(i) # 0, 3"
   ]
  },
  {
   "cell_type": "code",
   "execution_count": 30,
   "metadata": {},
   "outputs": [
    {
     "name": "stdout",
     "output_type": "stream",
     "text": [
      "one\n",
      "three\n"
     ]
    }
   ],
   "source": [
    "x = 1\n",
    "y = 1.0\n",
    "z = \"1\"\n",
    " \n",
    "if x == y:\n",
    "    print(\"one\")\n",
    "if y != int(z):\n",
    "    print(\"two\")\n",
    "elif x == y:\n",
    "    print(\"three\")\n",
    "else:\n",
    "    print(\"four\")"
   ]
  },
  {
   "cell_type": "code",
   "execution_count": 7,
   "metadata": {},
   "outputs": [
    {
     "name": "stdout",
     "output_type": "stream",
     "text": [
      "1\n",
      "2\n"
     ]
    }
   ],
   "source": [
    "numbers = [111, 7, 2, 1]\n",
    "print(numbers[-1])\n",
    "print(numbers[-2])"
   ]
  },
  {
   "cell_type": "code",
   "execution_count": 10,
   "metadata": {},
   "outputs": [
    {
     "name": "stdout",
     "output_type": "stream",
     "text": [
      "4\n",
      "[1, 2, 9, 4]\n"
     ]
    }
   ],
   "source": [
    "hat_list = [1, 2, 3, 4, 5]  # This is an existing list of numbers hidden in the hat.\n",
    "\n",
    "hat_list[2] = int(input(\"Please provide a integer: \"))\n",
    "\n",
    "del hat_list[4]\n",
    "\n",
    "print(len(hat_list))\n",
    "print(hat_list)"
   ]
  },
  {
   "cell_type": "code",
   "execution_count": 12,
   "metadata": {},
   "outputs": [
    {
     "name": "stdout",
     "output_type": "stream",
     "text": [
      "27\n"
     ]
    }
   ],
   "source": [
    "my_list = [10, 1, 8, 3, 5]\n",
    "total = 0\n",
    " \n",
    "for i in my_list:\n",
    "    total += i\n",
    " \n",
    "print(total)"
   ]
  },
  {
   "cell_type": "code",
   "execution_count": 18,
   "metadata": {},
   "outputs": [
    {
     "name": "stdout",
     "output_type": "stream",
     "text": [
      "6\n",
      "range(0, 3)\n",
      "[6, 5, 3, 8, 1, 10]\n"
     ]
    }
   ],
   "source": [
    "my_list = [10, 1, 8, 3, 5, 6]\n",
    "length = len(my_list)\n",
    "print(length)\n",
    "print(range(length // 2))\n",
    "for i in range(length // 2):\n",
    "    my_list[i], my_list[length - i - 1] = my_list[length - i - 1], my_list[i]\n",
    "\n",
    "print(my_list)\n",
    "\n",
    "\n",
    "\n",
    "\n"
   ]
  },
  {
   "cell_type": "code",
   "execution_count": 20,
   "metadata": {},
   "outputs": [
    {
     "name": "stdout",
     "output_type": "stream",
     "text": [
      "I am a string\n",
      "0\n",
      "[1, '?', True, 'I am a string', 256, 0]\n",
      "['first', 1, '?', True, 'I am a string', 256, 0, 'last']\n"
     ]
    }
   ],
   "source": [
    "my_list = [1, None, True, 'I am a string', 256, 0]\n",
    "print(my_list[3])  # outputs: I am a string\n",
    "print(my_list[-1])  # outputs: 0\n",
    " \n",
    "my_list[1] = '?'\n",
    "print(my_list)  # outputs: [1, '?', True, 'I am a string', 256, 0]\n",
    " \n",
    "my_list.insert(0, \"first\")\n",
    "my_list.append(\"last\")\n",
    "print(my_list)  "
   ]
  },
  {
   "cell_type": "code",
   "execution_count": 21,
   "metadata": {},
   "outputs": [
    {
     "name": "stdout",
     "output_type": "stream",
     "text": [
      "[1, 'a', ['list', 64, [0, 1], False]]\n"
     ]
    }
   ],
   "source": [
    "my_list = [1, 'a', [\"list\", 64, [0, 1], False]]\n",
    "\n",
    "print(my_list)"
   ]
  },
  {
   "cell_type": "code",
   "execution_count": 23,
   "metadata": {},
   "outputs": [
    {
     "name": "stdout",
     "output_type": "stream",
     "text": [
      "0 and Mark\n",
      "1 and Sarah\n",
      "2 and Lui\n"
     ]
    }
   ],
   "source": [
    "student_names = [\"Mark\", \"Sarah\", \"Lui\"]\n",
    "for index, student in enumerate(student_names):\n",
    "  print(f'{index} and {student}')"
   ]
  },
  {
   "cell_type": "code",
   "execution_count": 27,
   "metadata": {},
   "outputs": [
    {
     "name": "stdout",
     "output_type": "stream",
     "text": [
      "[2, 4, 6, 8, 10]\n"
     ]
    }
   ],
   "source": [
    "my_list = [8, 10, 6, 2, 4]  # list to sort\n",
    "swapped = True  # It's a little fake, we need it to enter the while loop.\n",
    "\n",
    "while swapped:\n",
    "    swapped = False  # no swaps so far\n",
    "    for i in range(len(my_list) - 1):\n",
    "        if my_list[i] > my_list[i + 1]:\n",
    "            swapped = True  # a swap occurred!\n",
    "            my_list[i], my_list[i + 1] = my_list[i + 1], my_list[i]\n",
    "\n",
    "print(my_list)\n",
    "\n"
   ]
  },
  {
   "cell_type": "code",
   "execution_count": 31,
   "metadata": {},
   "outputs": [
    {
     "name": "stdout",
     "output_type": "stream",
     "text": [
      "\n",
      "Sorted:\n",
      "[1.0, 2.0, 3.0, 4.0]\n"
     ]
    }
   ],
   "source": [
    "my_list = []\n",
    "swapped = True\n",
    "num = int(input(\"How many elements do you want to sort: \"))\n",
    "\n",
    "for i in range(num):\n",
    "    val = float(input(\"Enter a list element: \"))\n",
    "    my_list.append(val)\n",
    "\n",
    "while swapped:\n",
    "    swapped = False\n",
    "    for i in range(len(my_list) - 1):\n",
    "        if my_list[i] > my_list[i + 1]:\n",
    "            swapped = True\n",
    "            my_list[i], my_list[i + 1] = my_list[i + 1], my_list[i]\n",
    "\n",
    "print(\"\\nSorted:\")\n",
    "print(my_list)"
   ]
  },
  {
   "cell_type": "code",
   "execution_count": 37,
   "metadata": {},
   "outputs": [
    {
     "name": "stdout",
     "output_type": "stream",
     "text": [
      "[2, 2, 3, 4, 5, 6]\n",
      "[2, 3, 4, 5]\n"
     ]
    }
   ],
   "source": [
    "list_1 = [1,2,3,4,5,6]\n",
    "list_2 = list_1[1:-1]\n",
    "list_1[0] = 2\n",
    "print(list_1)\n",
    "print(list_2)"
   ]
  },
  {
   "cell_type": "code",
   "execution_count": 38,
   "metadata": {},
   "outputs": [
    {
     "name": "stdout",
     "output_type": "stream",
     "text": [
      "True\n",
      "True\n",
      "True\n"
     ]
    }
   ],
   "source": [
    "my_list = [0, 3, 12, 8, 2, \"5\"]\n",
    "\n",
    "print(\"5\" in my_list)\n",
    "print(5 not in my_list)\n",
    "print(12 in my_list)"
   ]
  },
  {
   "cell_type": "code",
   "execution_count": 41,
   "metadata": {},
   "outputs": [
    {
     "name": "stdout",
     "output_type": "stream",
     "text": [
      "largest number is 183\n"
     ]
    }
   ],
   "source": [
    "my_list = [17, 3, 11, 5, 1, 9, 7, 15, 183]\n",
    "largest = my_list[0]\n",
    "\n",
    "for num in my_list:\n",
    "  if num > largest:\n",
    "    largest = num\n",
    "\n",
    "print(f\"largest number is {largest}\")"
   ]
  },
  {
   "cell_type": "code",
   "execution_count": 47,
   "metadata": {},
   "outputs": [
    {
     "name": "stdout",
     "output_type": "stream",
     "text": [
      "The list with unique elements only:\n",
      "[1, 2, 4, 6, 9]\n"
     ]
    }
   ],
   "source": [
    "my_list = [1, 2, 4, 4, 1, 4, 2, 6, 2, 9]\n",
    "new_list = []\n",
    "for num in my_list:\n",
    "  if num not in new_list:\n",
    "    new_list.append(num)\n",
    "\n",
    "#\n",
    "print(\"The list with unique elements only:\")\n",
    "print(new_list)\n"
   ]
  },
  {
   "cell_type": "code",
   "execution_count": 5,
   "metadata": {},
   "outputs": [
    {
     "name": "stdout",
     "output_type": "stream",
     "text": [
      "[0, 1, 4, 9, 16, 25, 36, 49, 64, 81]\n",
      "[1, 2, 4, 8, 16, 32, 64, 128]\n",
      "[1, 9, 25, 49, 81]\n"
     ]
    }
   ],
   "source": [
    "squares = [x ** 2 for x in range(10)]\n",
    "\n",
    "\n",
    "\n",
    "print(squares)\n",
    "\n",
    "twos = [2 ** i for i in range(8)]\n",
    "print(twos)\n",
    "odds = [x for x in squares if x % 2 != 0 ]\n",
    "\n",
    "print(odds)"
   ]
  },
  {
   "cell_type": "code",
   "execution_count": 32,
   "metadata": {},
   "outputs": [
    {
     "name": "stdout",
     "output_type": "stream",
     "text": [
      "[[1, 2, 3, 4, 5, 6, 7, 8, 9, 10, 11, 12, 13, 14, 15, 16, 17, 18, 19, 20, 21, 22, 23, 24], [1, 2, 3, 4, 5, 6, 7, 8, 9, 10, 11, 12, 13, 14, 15, 16, 17, 18, 19, 20, 21, 22, 23, 24], [1, 2, 3, 4, 5, 6, 7, 8, 9, 10, 11, 12, 13, 14, 15, 16, 17, 18, 19, 20, 21, 22, 23, 24], [1, 2, 3, 4, 5, 6, 7, 8, 9, 10, 11, 12, 13, 14, 15, 16, 17, 18, 19, 20, 21, 22, 23, 24], [1, 2, 3, 4, 5, 6, 7, 8, 9, 10, 11, 12, 13, 14, 15, 16, 17, 18, 19, 20, 21, 22, 23, 24], [1, 2, 3, 4, 5, 6, 7, 8, 9, 10, 11, 12, 13, 14, 15, 16, 17, 18, 19, 20, 21, 22, 23, 24], [1, 2, 3, 4, 5, 6, 7, 8, 9, 10, 11, 12, 13, 14, 15, 16, 17, 18, 19, 20, 21, 22, 23, 24], [1, 2, 3, 4, 5, 6, 7, 8, 9, 10, 11, 12, 13, 14, 15, 16, 17, 18, 19, 20, 21, 22, 23, 24], [1, 2, 3, 4, 5, 6, 7, 8, 9, 10, 11, 12, 13, 14, 15, 16, 17, 18, 19, 20, 21, 22, 23, 24], [1, 2, 3, 4, 5, 6, 7, 8, 9, 10, 11, 12, 13, 14, 15, 16, 17, 18, 19, 20, 21, 22, 23, 24], [1, 2, 3, 4, 5, 6, 7, 8, 9, 10, 11, 12, 13, 14, 15, 16, 17, 18, 19, 20, 21, 22, 23, 24], [1, 2, 3, 4, 5, 6, 7, 8, 9, 10, 11, 12, 13, 14, 15, 16, 17, 18, 19, 20, 21, 22, 23, 24], [1, 2, 3, 4, 5, 6, 7, 8, 9, 10, 11, 12, 13, 14, 15, 16, 17, 18, 19, 20, 21, 22, 23, 24], [1, 2, 3, 4, 5, 6, 7, 8, 9, 10, 11, 12, 13, 14, 15, 16, 17, 18, 19, 20, 21, 22, 23, 24], [1, 2, 3, 4, 5, 6, 7, 8, 9, 10, 11, 12, 13, 14, 15, 16, 17, 18, 19, 20, 21, 22, 23, 24], [1, 2, 3, 4, 5, 6, 7, 8, 9, 10, 11, 12, 13, 14, 15, 16, 17, 18, 19, 20, 21, 22, 23, 24], [1, 2, 3, 4, 5, 6, 7, 8, 9, 10, 11, 12, 13, 14, 15, 16, 17, 18, 19, 20, 21, 22, 23, 24], [1, 2, 3, 4, 5, 6, 7, 8, 9, 10, 11, 12, 13, 14, 15, 16, 17, 18, 19, 20, 21, 22, 23, 24], [1, 2, 3, 4, 5, 6, 7, 8, 9, 10, 11, 12, 13, 14, 15, 16, 17, 18, 19, 20, 21, 22, 23, 24], [1, 2, 3, 4, 5, 6, 7, 8, 9, 10, 11, 12, 13, 14, 15, 16, 17, 18, 19, 20, 21, 22, 23, 24], [1, 2, 3, 4, 5, 6, 7, 8, 9, 10, 11, 12, 13, 14, 15, 16, 17, 18, 19, 20, 21, 22, 23, 24], [1, 2, 3, 4, 5, 6, 7, 8, 9, 10, 11, 12, 13, 14, 15, 16, 17, 18, 19, 20, 21, 22, 23, 24], [1, 2, 3, 4, 5, 6, 7, 8, 9, 10, 11, 12, 13, 14, 15, 16, 17, 18, 19, 20, 21, 22, 23, 24], [1, 2, 3, 4, 5, 6, 7, 8, 9, 10, 11, 12, 13, 14, 15, 16, 17, 18, 19, 20, 21, 22, 23, 24], [1, 2, 3, 4, 5, 6, 7, 8, 9, 10, 11, 12, 13, 14, 15, 16, 17, 18, 19, 20, 21, 22, 23, 24], [1, 2, 3, 4, 5, 6, 7, 8, 9, 10, 11, 12, 13, 14, 15, 16, 17, 18, 19, 20, 21, 22, 23, 24], [1, 2, 3, 4, 5, 6, 7, 8, 9, 10, 11, 12, 13, 14, 15, 16, 17, 18, 19, 20, 21, 22, 23, 24], [1, 2, 3, 4, 5, 6, 7, 8, 9, 10, 11, 12, 13, 14, 15, 16, 17, 18, 19, 20, 21, 22, 23, 24], [1, 2, 3, 4, 5, 6, 7, 8, 9, 10, 11, 12, 13, 14, 15, 16, 17, 18, 19, 20, 21, 22, 23, 24], [1, 2, 3, 4, 5, 6, 7, 8, 9, 10, 11, 12, 13, 14, 15, 16, 17, 18, 19, 20, 21, 22, 23, 24], [1, 2, 3, 4, 5, 6, 7, 8, 9, 10, 11, 12, 13, 14, 15, 16, 17, 18, 19, 20, 21, 22, 23, 24]]\n",
      "31\n",
      "[[2, 3, 4, 5, 6, 7, 8, 9, 10, 11, 12, 13, 14, 15, 16, 17, 18, 19, 20, 21, 22, 23, 24, 25], [2, 3, 4, 5, 6, 7, 8, 9, 10, 11, 12, 13, 14, 15, 16, 17, 18, 19, 20, 21, 22, 23, 24, 25], [2, 3, 4, 5, 6, 7, 8, 9, 10, 11, 12, 13, 14, 15, 16, 17, 18, 19, 20, 21, 22, 23, 24, 25], [2, 3, 4, 5, 6, 7, 8, 9, 10, 11, 12, 13, 14, 15, 16, 17, 18, 19, 20, 21, 22, 23, 24, 25], [2, 3, 4, 5, 6, 7, 8, 9, 10, 11, 12, 13, 14, 15, 16, 17, 18, 19, 20, 21, 22, 23, 24, 25], [2, 3, 4, 5, 6, 7, 8, 9, 10, 11, 12, 13, 14, 15, 16, 17, 18, 19, 20, 21, 22, 23, 24, 25], [2, 3, 4, 5, 6, 7, 8, 9, 10, 11, 12, 13, 14, 15, 16, 17, 18, 19, 20, 21, 22, 23, 24, 25], [2, 3, 4, 5, 6, 7, 8, 9, 10, 11, 12, 13, 14, 15, 16, 17, 18, 19, 20, 21, 22, 23, 24, 25], [2, 3, 4, 5, 6, 7, 8, 9, 10, 11, 12, 13, 14, 15, 16, 17, 18, 19, 20, 21, 22, 23, 24, 25], [2, 3, 4, 5, 6, 7, 8, 9, 10, 11, 12, 13, 14, 15, 16, 17, 18, 19, 20, 21, 22, 23, 24, 25], [2, 3, 4, 5, 6, 7, 8, 9, 10, 11, 12, 13, 14, 15, 16, 17, 18, 19, 20, 21, 22, 23, 24, 25], [2, 3, 4, 5, 6, 7, 8, 9, 10, 11, 12, 13, 14, 15, 16, 17, 18, 19, 20, 21, 22, 23, 24, 25], [2, 3, 4, 5, 6, 7, 8, 9, 10, 11, 12, 13, 14, 15, 16, 17, 18, 19, 20, 21, 22, 23, 24, 25], [2, 3, 4, 5, 6, 7, 8, 9, 10, 11, 12, 13, 14, 15, 16, 17, 18, 19, 20, 21, 22, 23, 24, 25], [2, 3, 4, 5, 6, 7, 8, 9, 10, 11, 12, 13, 14, 15, 16, 17, 18, 19, 20, 21, 22, 23, 24, 25], [2, 3, 4, 5, 6, 7, 8, 9, 10, 11, 12, 13, 14, 15, 16, 17, 18, 19, 20, 21, 22, 23, 24, 25], [2, 3, 4, 5, 6, 7, 8, 9, 10, 11, 12, 13, 14, 15, 16, 17, 18, 19, 20, 21, 22, 23, 24, 25], [2, 3, 4, 5, 6, 7, 8, 9, 10, 11, 12, 13, 14, 15, 16, 17, 18, 19, 20, 21, 22, 23, 24, 25], [2, 3, 4, 5, 6, 7, 8, 9, 10, 11, 12, 13, 14, 15, 16, 17, 18, 19, 20, 21, 22, 23, 24, 25], [2, 3, 4, 5, 6, 7, 8, 9, 10, 11, 12, 13, 14, 15, 16, 17, 18, 19, 20, 21, 22, 23, 24, 25], [2, 3, 4, 5, 6, 7, 8, 9, 10, 11, 12, 13, 14, 15, 16, 17, 18, 19, 20, 21, 22, 23, 24, 25], [2, 3, 4, 5, 6, 7, 8, 9, 10, 11, 12, 13, 14, 15, 16, 17, 18, 19, 20, 21, 22, 23, 24, 25], [2, 3, 4, 5, 6, 7, 8, 9, 10, 11, 12, 13, 14, 15, 16, 17, 18, 19, 20, 21, 22, 23, 24, 25], [2, 3, 4, 5, 6, 7, 8, 9, 10, 11, 12, 13, 14, 15, 16, 17, 18, 19, 20, 21, 22, 23, 24, 25], [2, 3, 4, 5, 6, 7, 8, 9, 10, 11, 12, 13, 14, 15, 16, 17, 18, 19, 20, 21, 22, 23, 24, 25], [2, 3, 4, 5, 6, 7, 8, 9, 10, 11, 12, 13, 14, 15, 16, 17, 18, 19, 20, 21, 22, 23, 24, 25], [2, 3, 4, 5, 6, 7, 8, 9, 10, 11, 12, 13, 14, 15, 16, 17, 18, 19, 20, 21, 22, 23, 24, 25], [2, 3, 4, 5, 6, 7, 8, 9, 10, 11, 12, 13, 14, 15, 16, 17, 18, 19, 20, 21, 22, 23, 24, 25], [2, 3, 4, 5, 6, 7, 8, 9, 10, 11, 12, 13, 14, 15, 16, 17, 18, 19, 20, 21, 22, 23, 24, 25], [2, 3, 4, 5, 6, 7, 8, 9, 10, 11, 12, 13, 14, 15, 16, 17, 18, 19, 20, 21, 22, 23, 24, 25], [2, 3, 4, 5, 6, 7, 8, 9, 10, 11, 12, 13, 14, 15, 16, 17, 18, 19, 20, 21, 22, 23, 24, 25]]\n"
     ]
    }
   ],
   "source": [
    "squares = []\n",
    "for x in range(31):\n",
    "  inner_list = []\n",
    "  for i in range(24):\n",
    "    inner_list.append(i+1)\n",
    "  squares.append(inner_list)\n",
    "print(squares)\n",
    "print(len(squares))\n",
    "\n",
    "monthly_temp_list = [[i+2 for i in range(24)] for x in range(31)]\n",
    "print(monthly_temp_list)"
   ]
  },
  {
   "cell_type": "code",
   "execution_count": 19,
   "metadata": {},
   "outputs": [
    {
     "name": "stdout",
     "output_type": "stream",
     "text": [
      "0  \n",
      "0 1 4 1  \n",
      "0 1 4 4  \n",
      "0 1 4 9  \n",
      "0 1 4 16  \n",
      "0 1 4 25  \n",
      "0 1 4 36  \n",
      "0 1 4 49  \n",
      "0 1 4 64  \n",
      "0 1 4 81  \n",
      "0 1 4 hello\n",
      "[[0, 1, 4, 9, 16, 25, 36, 49, 64, 81], [0, 1, 4, 9, 16, 25, 36, 49, 64, 81], [0, 1, 4, 9, 16, 25, 36, 49, 64, 81]]\n"
     ]
    }
   ],
   "source": [
    "for i in range(10):\n",
    "  i = i**2\n",
    "  print(i,end=\" \")\n",
    "  print(\" \")\n",
    "  for d in range(3):\n",
    "    d = d**2\n",
    "    print(d, end=\" \")\n",
    "\n",
    "print(\"hello\")\n",
    "squares=[[i**2 for i in range(10)]for x in range(3)]\n",
    "print(squares)"
   ]
  },
  {
   "cell_type": "code",
   "execution_count": 11,
   "metadata": {},
   "outputs": [
    {
     "name": "stdout",
     "output_type": "stream",
     "text": [
      "[[[], [], [], [], [], [], [], []], [[], [], [], [], [], [], [], []], [[], [], [], [], [], [], [], []], [[], [], [], [], [], [], [], []], [[], [], [], [], [], [], [], []], [[], [], [], [], [], [], [], []], [[], [], [], [], [], [], [], []], [[], [], [], [], [], [], [], []]]\n"
     ]
    }
   ],
   "source": [
    "board = []\n",
    "EMPTY = []\n",
    "for i in range(8):\n",
    "    row = [EMPTY for i in range(8)]\n",
    "    board.append(row)\n",
    "\n",
    "print(board)"
   ]
  },
  {
   "cell_type": "code",
   "execution_count": 40,
   "metadata": {},
   "outputs": [
    {
     "name": "stdout",
     "output_type": "stream",
     "text": [
      "*\n"
     ]
    }
   ],
   "source": [
    "i = 0\n",
    "while i <= 5 :\n",
    "    i += 1\n",
    "    if i % 2 == 0:\n",
    "      break\n",
    "    print(\"*\")\n",
    "\n",
    "\n",
    "  \n"
   ]
  },
  {
   "cell_type": "code",
   "execution_count": 47,
   "metadata": {},
   "outputs": [
    {
     "name": "stdout",
     "output_type": "stream",
     "text": [
      "[2]\n"
     ]
    }
   ],
   "source": [
    "my_list = [1, 2, 3, 4]\n",
    "print(my_list[-3:-2])\n",
    "\n"
   ]
  },
  {
   "cell_type": "code",
   "execution_count": 52,
   "metadata": {},
   "outputs": [
    {
     "name": "stdout",
     "output_type": "stream",
     "text": [
      "[-1, 0, 1]\n"
     ]
    }
   ],
   "source": [
    "my_list = [i for i in range(-1, 2)]\n",
    "print(my_list)\n"
   ]
  },
  {
   "cell_type": "code",
   "execution_count": 53,
   "metadata": {},
   "outputs": [
    {
     "name": "stdout",
     "output_type": "stream",
     "text": [
      "6\n"
     ]
    }
   ],
   "source": [
    "t = [[3-i for i in range (3)] for j in range (3)]\n",
    "s = 0\n",
    "for i in range(3):\n",
    "    s += t[i][i]\n",
    "print(s)"
   ]
  },
  {
   "cell_type": "code",
   "execution_count": 55,
   "metadata": {},
   "outputs": [
    {
     "ename": "IndexError",
     "evalue": "list index out of range",
     "output_type": "error",
     "traceback": [
      "\u001b[1;31m---------------------------------------------------------------------------\u001b[0m",
      "\u001b[1;31mIndexError\u001b[0m                                Traceback (most recent call last)",
      "Cell \u001b[1;32mIn[55], line 2\u001b[0m\n\u001b[0;32m      1\u001b[0m my_list \u001b[38;5;241m=\u001b[39m [[\u001b[38;5;241m0\u001b[39m, \u001b[38;5;241m1\u001b[39m, \u001b[38;5;241m2\u001b[39m, \u001b[38;5;241m3\u001b[39m] \u001b[38;5;28;01mfor\u001b[39;00m i \u001b[38;5;129;01min\u001b[39;00m \u001b[38;5;28mrange\u001b[39m(\u001b[38;5;241m2\u001b[39m)]\n\u001b[1;32m----> 2\u001b[0m \u001b[38;5;28mprint\u001b[39m(my_list[\u001b[38;5;241m2\u001b[39m][\u001b[38;5;241m0\u001b[39m])\n",
      "\u001b[1;31mIndexError\u001b[0m: list index out of range"
     ]
    }
   ],
   "source": [
    "my_list = [[0, 1, 2, 3] for i in range(2)]\n",
    "print(my_list[2][0])"
   ]
  },
  {
   "cell_type": "code",
   "execution_count": 57,
   "metadata": {},
   "outputs": [
    {
     "name": "stdout",
     "output_type": "stream",
     "text": [
      "Enter a number: 1\n",
      "1234\n"
     ]
    }
   ],
   "source": [
    "def message(number):\n",
    "    print(\"Enter a number:\", number)\n",
    " \n",
    "number = 1234\n",
    "message(1)\n",
    "print(number)"
   ]
  },
  {
   "cell_type": "code",
   "execution_count": 61,
   "metadata": {},
   "outputs": [
    {
     "name": "stdout",
     "output_type": "stream",
     "text": [
      "Hello, my name is James Smith\n",
      "My name is Bond. James Bond.\n",
      "My name is Sean Connery. James Bond.\n"
     ]
    }
   ],
   "source": [
    "def introduction(first_name, last_name=\"Smith\"):\n",
    "     print(\"Hello, my name is\", first_name, last_name)\n",
    "\n",
    "introduction(\"James\")\n",
    "\n",
    "def intro(a=\"James Bond\", b=\"Bond\"):\n",
    "     print(\"My name is\", b + \".\", a + \".\")\n",
    " \n",
    "intro()\n",
    "\n",
    "def intro(a=\"James Bond\", b=\"Bond\"):\n",
    "    print(\"My name is\", b + \".\", a + \".\")\n",
    " \n",
    "intro(b=\"Sean Connery\")\n"
   ]
  },
  {
   "cell_type": "code",
   "execution_count": 1,
   "metadata": {},
   "outputs": [
    {
     "name": "stdout",
     "output_type": "stream",
     "text": [
      "[1, 1, 1, 2]\n"
     ]
    }
   ],
   "source": [
    "my_list = [1, 2]\n",
    " \n",
    "for v in range(2):\n",
    "    my_list.insert(-1, my_list[v])\n",
    " \n",
    "print(my_list)"
   ]
  },
  {
   "cell_type": "code",
   "execution_count": 2,
   "metadata": {},
   "outputs": [
    {
     "ename": "TypeError",
     "evalue": "unsupported operand type(s) for *: 'NoneType' and 'NoneType'",
     "output_type": "error",
     "traceback": [
      "\u001b[1;31m---------------------------------------------------------------------------\u001b[0m",
      "\u001b[1;31mTypeError\u001b[0m                                 Traceback (most recent call last)",
      "Cell \u001b[1;32mIn[2], line 9\u001b[0m\n\u001b[0;32m      5\u001b[0m \u001b[38;5;28;01mdef\u001b[39;00m \u001b[38;5;21mfunction_2\u001b[39m(a):\n\u001b[0;32m      6\u001b[0m     \u001b[38;5;28;01mreturn\u001b[39;00m function_1(a) \u001b[38;5;241m*\u001b[39m function_1(a)\n\u001b[1;32m----> 9\u001b[0m \u001b[38;5;28mprint\u001b[39m(function_2(\u001b[38;5;241m2\u001b[39m))\n",
      "Cell \u001b[1;32mIn[2], line 6\u001b[0m, in \u001b[0;36mfunction_2\u001b[1;34m(a)\u001b[0m\n\u001b[0;32m      5\u001b[0m \u001b[38;5;28;01mdef\u001b[39;00m \u001b[38;5;21mfunction_2\u001b[39m(a):\n\u001b[1;32m----> 6\u001b[0m     \u001b[38;5;28;01mreturn\u001b[39;00m function_1(a) \u001b[38;5;241m*\u001b[39m function_1(a)\n",
      "\u001b[1;31mTypeError\u001b[0m: unsupported operand type(s) for *: 'NoneType' and 'NoneType'"
     ]
    }
   ],
   "source": [
    "def function_1(a):\n",
    "    return None\n",
    " \n",
    " \n",
    "def function_2(a):\n",
    "    return function_1(a) * function_1(a)\n",
    " \n",
    " \n",
    "print(function_2(2))"
   ]
  },
  {
   "cell_type": "code",
   "execution_count": 4,
   "metadata": {},
   "outputs": [
    {
     "ename": "SyntaxError",
     "evalue": "positional argument follows keyword argument (2047894747.py, line 5)",
     "output_type": "error",
     "traceback": [
      "\u001b[1;36m  Cell \u001b[1;32mIn[4], line 5\u001b[1;36m\u001b[0m\n\u001b[1;33m    print(func(b=2, 2))\u001b[0m\n\u001b[1;37m                     ^\u001b[0m\n\u001b[1;31mSyntaxError\u001b[0m\u001b[1;31m:\u001b[0m positional argument follows keyword argument\n"
     ]
    }
   ],
   "source": [
    "def func(a, b):\n",
    "    return b ** a\n",
    "\n",
    "\n",
    "print(func(b=2, 2))\n",
    "\n"
   ]
  },
  {
   "cell_type": "code",
   "execution_count": 6,
   "metadata": {},
   "outputs": [
    {
     "name": "stdout",
     "output_type": "stream",
     "text": [
      "False\n"
     ]
    }
   ],
   "source": [
    "z = 0\n",
    "y = 10\n",
    "x = y < z and z > y or y < z and z < y\n",
    "\n",
    "print(x)"
   ]
  },
  {
   "cell_type": "code",
   "execution_count": 8,
   "metadata": {},
   "outputs": [
    {
     "name": "stdout",
     "output_type": "stream",
     "text": [
      "Three...\n",
      "Two...\n",
      "One...\n",
      "Happy New Year!\n"
     ]
    }
   ],
   "source": [
    "def happy_new_year(wishes = True):\n",
    "    print(\"Three...\")\n",
    "    print(\"Two...\")\n",
    "    print(\"One...\")\n",
    "    \n",
    "    if not wishes:\n",
    "        return \n",
    "\n",
    "    print(\"Happy New Year!\")\n",
    "\n",
    "    \n",
    "\n",
    "happy_new_year(True)"
   ]
  },
  {
   "cell_type": "code",
   "execution_count": 18,
   "metadata": {},
   "outputs": [
    {
     "name": "stdout",
     "output_type": "stream",
     "text": [
      "The boring_function has returned its result. It's: 123\n"
     ]
    },
    {
     "data": {
      "text/plain": [
       "123"
      ]
     },
     "execution_count": 18,
     "metadata": {},
     "output_type": "execute_result"
    }
   ],
   "source": [
    "def boring_function():\n",
    "    return 123\n",
    "\n",
    "\n",
    "print(\"The boring_function has returned its result. It's:\", boring_function())\n",
    "boring_function()"
   ]
  },
  {
   "cell_type": "code",
   "execution_count": 19,
   "metadata": {},
   "outputs": [
    {
     "name": "stdout",
     "output_type": "stream",
     "text": [
      "This lesson is interesting!\n",
      "This lesson is boring...\n"
     ]
    }
   ],
   "source": [
    "def boring_function():\n",
    "    #print(\"'Boredom Mode' ON.\")\n",
    "    return 122\n",
    "\n",
    "    #print(\"return command\") \n",
    "\n",
    "print(\"This lesson is interesting!\")\n",
    "boring_function()\n",
    "print(\"This lesson is boring...\")\n"
   ]
  },
  {
   "cell_type": "code",
   "execution_count": 21,
   "metadata": {},
   "outputs": [
    {
     "name": "stdout",
     "output_type": "stream",
     "text": [
      "Sorry, you don't carry any value\n"
     ]
    }
   ],
   "source": [
    "value = None\n",
    "if value is None:\n",
    "    print(\"Sorry, you don't carry any value\")"
   ]
  },
  {
   "cell_type": "code",
   "execution_count": 23,
   "metadata": {},
   "outputs": [
    {
     "name": "stdout",
     "output_type": "stream",
     "text": [
      "[5, 4, 3, 2, 1, 0]\n",
      "15\n"
     ]
    }
   ],
   "source": [
    "def strange_list_fun(n):\n",
    "    strange_list = []\n",
    "    \n",
    "    for i in range(0, n):\n",
    "        strange_list.insert(0, i)\n",
    "    \n",
    "    return strange_list\n",
    "x = strange_list_fun(6)\n",
    "print(x)\n",
    "def list_sum(lst):\n",
    "    s = 0\n",
    " \n",
    "    for elem in lst:\n",
    "        s += elem\n",
    " \n",
    "    return s\n",
    "    \n",
    "    \n",
    "print(list_sum(x))\n"
   ]
  },
  {
   "cell_type": "code",
   "execution_count": 26,
   "metadata": {},
   "outputs": [
    {
     "ename": "TypeError",
     "evalue": "is_year_leap() missing 1 required positional argument: 'year'",
     "output_type": "error",
     "traceback": [
      "\u001b[1;31m---------------------------------------------------------------------------\u001b[0m",
      "\u001b[1;31mTypeError\u001b[0m                                 Traceback (most recent call last)",
      "Cell \u001b[1;32mIn[26], line 13\u001b[0m\n\u001b[0;32m     11\u001b[0m     test_results\u001b[38;5;241m.\u001b[39mappend()\n\u001b[0;32m     12\u001b[0m test_data \u001b[38;5;241m=\u001b[39m [\u001b[38;5;241m1900\u001b[39m, \u001b[38;5;241m2000\u001b[39m, \u001b[38;5;241m2016\u001b[39m, \u001b[38;5;241m1987\u001b[39m]\n\u001b[1;32m---> 13\u001b[0m \u001b[38;5;28mprint\u001b[39m(is_year_leap())\n",
      "\u001b[1;31mTypeError\u001b[0m: is_year_leap() missing 1 required positional argument: 'year'"
     ]
    }
   ],
   "source": [
    "def is_year_leap(year):\n",
    "    test_results = []\n",
    "    for year in test_data:\n",
    "        if year % 4 == 0:\n",
    "          \n",
    "            return True\n",
    "      \n",
    "        else:\n",
    "            return False\n",
    "\n",
    "    test_results.append()\n",
    "test_data = [1900, 2000, 2016, 1987]\n",
    "print(is_year_leap())"
   ]
  },
  {
   "cell_type": "code",
   "execution_count": 4,
   "metadata": {},
   "outputs": [
    {
     "name": "stdout",
     "output_type": "stream",
     "text": [
      "1900 ->2000 ->2016 ->1987 ->"
     ]
    }
   ],
   "source": [
    "test_data = [1900, 2000, 2016, 1987]\n",
    "test_results = [False, True, True, False]\n",
    "for i in range(len(test_data)):\n",
    "    yr = test_data[i]\n",
    "    print(yr,\"->\",end=\"\")\n",
    "    result ="
   ]
  },
  {
   "cell_type": "code",
   "execution_count": 3,
   "metadata": {},
   "outputs": [
    {
     "data": {
      "text/plain": [
       "True"
      ]
     },
     "execution_count": 3,
     "metadata": {},
     "output_type": "execute_result"
    }
   ],
   "source": [
    "\n",
    "def is_year_leap(year):\n",
    "    check_result = year % 4\n",
    "    if check_result == 0:\n",
    "      return True\n",
    "\n",
    "    else:\n",
    "      return False\n",
    "\n",
    "    #print(result)\n",
    "\n",
    "\n",
    "is_year_leap(1900)\n",
    "\n"
   ]
  },
  {
   "cell_type": "code",
   "execution_count": 15,
   "metadata": {},
   "outputs": [
    {
     "name": "stdout",
     "output_type": "stream",
     "text": [
      "Do I know that variable? 2\n",
      "1\n"
     ]
    }
   ],
   "source": [
    "var = 3\n",
    "def my_function():\n",
    "    global var\n",
    "    var = 2\n",
    "    print(\"Do I know that variable?\", var)\n",
    "\n",
    "\n",
    "\n",
    "my_function()\n",
    "var = 1\n",
    "print(var)\n",
    "\n"
   ]
  },
  {
   "cell_type": "code",
   "execution_count": 10,
   "metadata": {},
   "outputs": [
    {
     "name": "stdout",
     "output_type": "stream",
     "text": [
      "1900 ->OK\n",
      "2000 ->OK\n",
      "2016 ->OK\n",
      "1987 ->OK\n"
     ]
    }
   ],
   "source": [
    "def is_year_leap(year):\n",
    "    if (year%4==0):\n",
    "        return True\n",
    "\n",
    "    else:\n",
    "        return False\n",
    "\n",
    "    # Write your code here.\n",
    "    #\n",
    "\n",
    "test_data = [1900, 2000, 2016, 1987]\n",
    "test_results = [True, True, True, False]\n",
    "for i in range(len(test_data)):\n",
    "    yr = test_data[i]\n",
    "    print(yr,\"->\",end=\"\")\n",
    "    result = is_year_leap(yr)\n",
    "    if result == test_results[i]:\n",
    "        print(\"OK\")\n",
    "    else:\n",
    "        print(\"Failed\")\n"
   ]
  },
  {
   "cell_type": "code",
   "execution_count": 16,
   "metadata": {},
   "outputs": [
    {
     "name": "stdout",
     "output_type": "stream",
     "text": [
      "Print #1: [2, 3]\n",
      "Print #2: [2, 3]\n",
      "Print #3: [0, 1]\n",
      "Print #4: [2, 3]\n",
      "Print #5: [2, 3]\n"
     ]
    }
   ],
   "source": [
    "def my_function(my_list_1):\n",
    "    print(\"Print #1:\", my_list_1)\n",
    "    print(\"Print #2:\", my_list_2)\n",
    "    my_list_1 = [0, 1]\n",
    "    print(\"Print #3:\", my_list_1)\n",
    "    print(\"Print #4:\", my_list_2)\n",
    "\n",
    "\n",
    "my_list_2 = [2, 3]\n",
    "my_function(my_list_2)\n",
    "print(\"Print #5:\", my_list_2)\n",
    "\n"
   ]
  },
  {
   "cell_type": "code",
   "execution_count": 17,
   "metadata": {},
   "outputs": [
    {
     "name": "stdout",
     "output_type": "stream",
     "text": [
      "19.283746556473833\n"
     ]
    }
   ],
   "source": [
    "def bmi(weight, height):\n",
    "  return weight/height**2\n",
    "\n",
    "\n",
    "print(bmi(52.5,1.65))"
   ]
  },
  {
   "cell_type": "code",
   "execution_count": 1,
   "metadata": {},
   "outputs": [
    {
     "name": "stdout",
     "output_type": "stream",
     "text": [
      "24\n"
     ]
    }
   ],
   "source": [
    "def factorial(n):\n",
    "    if n == 1: # The base case (termination condition.)\n",
    "        return 1\n",
    "    else:\n",
    "        return n * factorial(n - 1)\n",
    " \n",
    " \n",
    "print(factorial(4))"
   ]
  },
  {
   "cell_type": "code",
   "execution_count": null,
   "metadata": {},
   "outputs": [],
   "source": []
  },
  {
   "cell_type": "code",
   "execution_count": 1,
   "metadata": {},
   "outputs": [
    {
     "name": "stdout",
     "output_type": "stream",
     "text": [
      "Area: 50\n",
      "Perimeter: 30\n",
      "Area: 153.93804002589985\n",
      "Perimeter: 43.982297150257104\n",
      "Area: 6.0\n",
      "Perimeter: 12\n"
     ]
    }
   ],
   "source": [
    "\n",
    "from math import pi\n",
    "\n",
    "# Base class\n",
    "class Shape:\n",
    "    def area(self):\n",
    "        raise NotImplementedError(\"Subclasses must implement this method\")\n",
    "\n",
    "    def perimeter(self):\n",
    "        raise NotImplementedError(\"Subclasses must implement this method\")\n",
    "\n",
    "# Derived class for Rectangle\n",
    "class Rectangle(Shape):\n",
    "    def __init__(self, width, height):\n",
    "        self.width = width\n",
    "        self.height = height\n",
    "\n",
    "    def area(self):\n",
    "        return self.width * self.height\n",
    "\n",
    "    def perimeter(self):\n",
    "        return 2 * (self.width + self.height)\n",
    "\n",
    "# Derived class for Circle\n",
    "class Circle(Shape):\n",
    "    def __init__(self, radius):\n",
    "        self.radius = radius\n",
    "\n",
    "    def area(self):\n",
    "        return pi * self.radius ** 2\n",
    "\n",
    "    def perimeter(self):\n",
    "        return 2 * pi * self.radius\n",
    "\n",
    "# Derived class for Triangle\n",
    "class Triangle(Shape):\n",
    "    def __init__(self, a, b, c):\n",
    "        self.a = a\n",
    "        self.b = b\n",
    "        self.c = c\n",
    "\n",
    "    def area(self):\n",
    "        s = (self.a + self.b + self.c) / 2\n",
    "        return (s * (s - self.a) * (s - self.b) * (s - self.c)) ** 0.5\n",
    "\n",
    "    def perimeter(self):\n",
    "        return self.a + self.b + self.c\n",
    "\n",
    "# Function to display area and perimeter for any shape\n",
    "def display_shape_info(shape):\n",
    "    print(f\"Area: {shape.area()}\")\n",
    "    print(f\"Perimeter: {shape.perimeter()}\")\n",
    "\n",
    "# Create instances of different shapes\n",
    "rectangle = Rectangle(5, 10)\n",
    "circle = Circle(7)\n",
    "triangle = Triangle(3, 4, 5)\n",
    "\n",
    "# Demonstrate polymorphism\n",
    "display_shape_info(rectangle)  # Works for Rectangle\n",
    "display_shape_info(circle)     # Works for Circle\n",
    "display_shape_info(triangle)   # Works for Triangle\n",
    "\n",
    "\n",
    "\n"
   ]
  },
  {
   "cell_type": "code",
   "execution_count": null,
   "metadata": {},
   "outputs": [],
   "source": []
  },
  {
   "cell_type": "code",
   "execution_count": null,
   "metadata": {},
   "outputs": [],
   "source": []
  },
  {
   "cell_type": "code",
   "execution_count": null,
   "metadata": {},
   "outputs": [],
   "source": [
    "axes[0].set_title(f\"Subbasin {sb_number}: SSP 245\")"
   ]
  },
  {
   "cell_type": "code",
   "execution_count": null,
   "metadata": {},
   "outputs": [],
   "source": []
  }
 ],
 "metadata": {
  "kernelspec": {
   "display_name": "dsenv",
   "language": "python",
   "name": "python3"
  },
  "language_info": {
   "codemirror_mode": {
    "name": "ipython",
    "version": 3
   },
   "file_extension": ".py",
   "mimetype": "text/x-python",
   "name": "python",
   "nbconvert_exporter": "python",
   "pygments_lexer": "ipython3",
   "version": "3.12.3"
  }
 },
 "nbformat": 4,
 "nbformat_minor": 2
}
